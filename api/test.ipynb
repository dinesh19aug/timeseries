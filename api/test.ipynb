{
 "cells": [
  {
   "metadata": {
    "ExecuteTime": {
     "end_time": "2025-06-02T15:45:00.826326Z",
     "start_time": "2025-06-02T15:45:00.796079Z"
    }
   },
   "cell_type": "code",
   "source": [
    "import pandas as pd\n",
    "from darts import TimeSeries\n",
    "from darts.models import RegressionModel\n",
    "from darts.metrics import rmse\n",
    "from darts.utils.statistics import check_seasonality\n",
    "from darts.dataprocessing.transformers import scaler\n",
    "from sklearn.preprocessing import StandardScaler\n",
    "from sklearn.linear_model import LinearRegression\n",
    "from lightgbm import LGBMRegressor\n",
    "from statsforecast.models import AutoTBATS\n",
    "from xgboost import XGBRegressor\n",
    "from functools import reduce\n",
    "from operator import add"
   ],
   "id": "50351d214c12c974",
   "outputs": [],
   "execution_count": 162
  },
  {
   "metadata": {
    "ExecuteTime": {
     "end_time": "2025-06-01T08:29:28.262049Z",
     "start_time": "2025-06-01T08:29:28.235398Z"
    }
   },
   "cell_type": "code",
   "source": [
    "# === Config ===\n",
    "forecast_horizon = 90\n",
    "ensemble_top_n = 2\n",
    "fallback_lag = 30\n"
   ],
   "id": "d0751511616dfec2",
   "outputs": [],
   "execution_count": 123
  },
  {
   "metadata": {
    "ExecuteTime": {
     "end_time": "2025-06-01T08:29:30.682334Z",
     "start_time": "2025-06-01T08:29:30.603890Z"
    }
   },
   "cell_type": "code",
   "source": [
    "# === Load Data ===\n",
    "df = pd.read_csv(\"temp_1.csv\", parse_dates=[\"Date\"])\n",
    "server_columns = df.columns.drop(\"Date\")\n",
    "series_list = [\n",
    "    TimeSeries.from_dataframe(df, time_col=\"Date\", value_cols=col)\n",
    "    for col in server_columns\n",
    "]"
   ],
   "id": "5868222c34a1f904",
   "outputs": [],
   "execution_count": 124
  },
  {
   "metadata": {
    "ExecuteTime": {
     "end_time": "2025-06-01T08:29:33.061030Z",
     "start_time": "2025-06-01T08:29:32.998194Z"
    }
   },
   "cell_type": "code",
   "source": [
    "# === Seasonality Detection ===\n",
    "def get_strongest_seasonality(ts, candidates=[5, 7, 14, 30, 60, 90, 365]):\n",
    "    values = ts.univariate_values()\n",
    "    max_lag = max(candidates)\n",
    "    acf_vals = acf(values, nlags=max_lag, fft=True)\n",
    "    results = []\n",
    "    for m in candidates:\n",
    "        if check_seasonality(ts, m=m, max_lag=max_lag, alpha=0.05):\n",
    "            strength = abs(acf_vals[m])\n",
    "            results.append((m, strength))\n",
    "    if results:\n",
    "        best_m = max(results, key=lambda x: x[1])[0]\n",
    "        print(f\"✔️ Strongest seasonality detected: {best_m}\")\n",
    "        return best_m\n",
    "    print(\"⚠️ No seasonality detected. Using fallback.\")\n",
    "    return fallback_lag\n",
    "\n",
    "lags = min(get_strongest_seasonality(s) for s in series_list)\n",
    "print(f\"Detected common seasonality lag: {lags}\")"
   ],
   "id": "35a5a44eb637e37d",
   "outputs": [
    {
     "name": "stdout",
     "output_type": "stream",
     "text": [
      "✔️ Strongest seasonality detected: 5\n",
      "✔️ Strongest seasonality detected: 7\n",
      "Detected common seasonality lag: 5\n"
     ]
    }
   ],
   "execution_count": 125
  },
  {
   "metadata": {
    "ExecuteTime": {
     "end_time": "2025-06-01T08:29:36.822643Z",
     "start_time": "2025-06-01T08:29:36.793683Z"
    }
   },
   "cell_type": "code",
   "source": [
    "# === Train-Test Split ===\n",
    "train_series = [s[:-forecast_horizon] for s in series_list]\n",
    "val_series = [s[-forecast_horizon:] for s in series_list]\n"
   ],
   "id": "259cd38edd10e7de",
   "outputs": [],
   "execution_count": 126
  },
  {
   "metadata": {
    "ExecuteTime": {
     "end_time": "2025-06-01T08:30:05.036508Z",
     "start_time": "2025-06-01T08:30:05.004311Z"
    }
   },
   "cell_type": "code",
   "source": [
    "# === Scaling ===\n",
    "scaler = Scaler(StandardScaler())\n",
    "train_series_scaled = [scaler.fit_transform(s) for s in train_series]\n",
    "val_series_scaled = [scaler.transform(s) for s in val_series]\n"
   ],
   "id": "9dc78b05e5737dc8",
   "outputs": [],
   "execution_count": 130
  },
  {
   "metadata": {
    "ExecuteTime": {
     "end_time": "2025-06-01T08:53:21.406783Z",
     "start_time": "2025-06-01T08:53:21.379202Z"
    }
   },
   "cell_type": "code",
   "source": [
    "# === Models ===\n",
    "output_chunk_length = min(forecast_horizon, 30)\n",
    "candidate_models = {\n",
    "    \"LightGBM\": RegressionModel(LGBMRegressor(), lags=lags, output_chunk_length=output_chunk_length),\n",
    "    \"XGBoost\": RegressionModel(XGBRegressor(), lags=lags, output_chunk_length=output_chunk_length),\n",
    "    \"Linear\": RegressionModel(LinearRegression(), lags=lags, output_chunk_length=output_chunk_length),\n",
    "}"
   ],
   "id": "ad800c7c1fa2fca7",
   "outputs": [],
   "execution_count": 137
  },
  {
   "metadata": {
    "ExecuteTime": {
     "end_time": "2025-06-01T09:22:16.765519Z",
     "start_time": "2025-06-01T09:22:16.231744Z"
    }
   },
   "cell_type": "code",
   "source": [
    "# === Evaluate Models ===\n",
    "rmse_scores = {}\n",
    "\n",
    "for name, model in candidate_models.items():\n",
    "    print(f\"\\n🔎 Evaluating model: {name}\")\n",
    "    model.fit(train_series_scaled)\n",
    "    preds = model.historical_forecasts(\n",
    "        series=train_series_scaled,\n",
    "        forecast_horizon=forecast_horizon,\n",
    "        stride=forecast_horizon,\n",
    "        last_points_only=True,\n",
    "        verbose=False\n",
    "    )\n",
    "    valid_rmse = []\n",
    "    for true, pred in zip(val_series_scaled, preds):\n",
    "        if len(true) == len(pred):\n",
    "            valid_rmse.append(rmse(true, pred))\n",
    "        else:\n",
    "            print(f\"⚠️ Length mismatch on series: pred={len(pred)}, true={len(true)}\")\n",
    "    if valid_rmse:\n",
    "        avg_rmse = sum(valid_rmse) / len(valid_rmse)\n",
    "        rmse_scores[name] = avg_rmse\n",
    "        print(f\"✅ [{name}] Avg RMSE: {avg_rmse:.2f} on {len(valid_rmse)} series\")\n",
    "    else:\n",
    "        print(f\"[{name}] No valid forecasts to calculate RMSE\")"
   ],
   "id": "452ad4e7b8c20f5b",
   "outputs": [
    {
     "name": "stdout",
     "output_type": "stream",
     "text": [
      "\n",
      "🔎 Evaluating model: LightGBM\n",
      "⚠️ Length mismatch on series: pred=38, true=90\n",
      "⚠️ Length mismatch on series: pred=38, true=90\n",
      "[LightGBM] No valid forecasts to calculate RMSE\n",
      "\n",
      "🔎 Evaluating model: XGBoost\n",
      "⚠️ Length mismatch on series: pred=38, true=90\n",
      "⚠️ Length mismatch on series: pred=38, true=90\n",
      "[XGBoost] No valid forecasts to calculate RMSE\n",
      "\n",
      "🔎 Evaluating model: Linear\n",
      "⚠️ Length mismatch on series: pred=38, true=90\n",
      "⚠️ Length mismatch on series: pred=38, true=90\n",
      "[Linear] No valid forecasts to calculate RMSE\n"
     ]
    }
   ],
   "execution_count": 147
  },
  {
   "metadata": {
    "ExecuteTime": {
     "end_time": "2025-06-01T09:22:22.558938Z",
     "start_time": "2025-06-01T09:22:22.530203Z"
    }
   },
   "cell_type": "code",
   "source": [
    "# === Select Top N Models ===\n",
    "sorted_models = sorted(rmse_scores.items(), key=lambda x: x[1])\n",
    "top_model_names = [name for name, _ in sorted_models[:ensemble_top_n]]\n",
    "print(f\"\\n✅ Top {ensemble_top_n} models: {top_model_names}\")\n"
   ],
   "id": "d0114e12b6d2166",
   "outputs": [
    {
     "name": "stdout",
     "output_type": "stream",
     "text": [
      "\n",
      "✅ Top 2 models: []\n"
     ]
    }
   ],
   "execution_count": 148
  },
  {
   "metadata": {
    "ExecuteTime": {
     "end_time": "2025-06-01T08:25:58.581252Z",
     "start_time": "2025-06-01T08:25:58.552520Z"
    }
   },
   "cell_type": "code",
   "source": [
    "# === Final Fit + Forecast ===\n",
    "top_forecasts = []\n",
    "\n",
    "for name in top_model_names:\n",
    "    model = candidate_models[name]\n",
    "    model.fit(train_series_scaled)\n",
    "    forecasts = model.predict(n=forecast_horizon, series=train_series_scaled)\n",
    "    avg_forecast = reduce(add, forecasts) * (1.0 / len(forecasts))\n",
    "    top_forecasts.append(avg_forecast)"
   ],
   "id": "a7ef9f03d170183c",
   "outputs": [],
   "execution_count": 120
  },
  {
   "metadata": {
    "ExecuteTime": {
     "end_time": "2025-06-01T08:12:35.188460Z",
     "start_time": "2025-06-01T08:12:35.162405Z"
    }
   },
   "cell_type": "code",
   "source": [
    "# === Ensemble ===\n",
    "ensemble_scaled = reduce(add, top_forecasts) * (1.0 / len(top_forecasts))\n",
    "ensemble_final = scaler.inverse_transform(ensemble_scaled)\n",
    "ensemble_final.plot(label=f\"Ensemble Forecast (Top {ensemble_top_n} Models)\")\n"
   ],
   "id": "c27ac0d8c3d7c68e",
   "outputs": [],
   "execution_count": 97
  },
  {
   "metadata": {
    "ExecuteTime": {
     "end_time": "2025-06-01T09:38:04.636536Z",
     "start_time": "2025-06-01T09:38:04.332602Z"
    }
   },
   "cell_type": "code",
   "source": [
    "from functools import reduce\n",
    "from operator import add\n",
    "import pandas as pd\n",
    "from darts import TimeSeries\n",
    "from darts.dataprocessing.transformers import Scaler\n",
    "from darts.metrics import rmse\n",
    "from darts.models import RegressionModel\n",
    "from sklearn.preprocessing import StandardScaler\n",
    "from sklearn.linear_model import LinearRegression\n",
    "from xgboost import XGBRegressor\n",
    "from lightgbm import LGBMRegressor\n",
    "from statsmodels.tsa.stattools import acf\n",
    "from darts.utils.statistics import check_seasonality\n",
    "\n",
    "# === Config ===\n",
    "forecast_horizon = 90\n",
    "ensemble_top_n = 2\n",
    "fallback_seasonality = 60\n",
    "\n",
    "# === Load Data ===\n",
    "df = pd.read_csv(\"temp_1.csv\", parse_dates=[\"Date\"])\n",
    "server_columns = df.columns.drop(\"Date\")\n",
    "\n",
    "# Create TimeSeries for each server\n",
    "series_list = [\n",
    "    TimeSeries.from_dataframe(df, time_col=\"Date\", value_cols=col)\n",
    "    for col in server_columns\n",
    "    if df[col].notna().sum() > forecast_horizon\n",
    "]\n",
    "\n",
    "\n",
    "\n",
    "# === Seasonality Detection ===\n",
    "def get_strongest_seasonality(ts, candidates=[5, 7, 14, 30, 60, 90, 365]):\n",
    "    values = ts.univariate_values()\n",
    "    max_lag = max(candidates)\n",
    "    acf_vals = acf(values, nlags=max_lag, fft=True)\n",
    "    results = []\n",
    "    for m in candidates:\n",
    "        if check_seasonality(ts, m=m, max_lag=max_lag, alpha=0.05):\n",
    "            strength = abs(acf_vals[m])\n",
    "            results.append((m, strength))\n",
    "    if results:\n",
    "        best_m = max(results, key=lambda x: x[1])[0]\n",
    "        print(f\"✔️ Strongest seasonality detected: {best_m}\")\n",
    "        return best_m\n",
    "    print(\"⚠️ No seasonality detected. Using fallback.\")\n",
    "    return fallback_seasonality\n",
    "\n",
    "# Use min detected seasonality\n",
    "lags = min(get_strongest_seasonality(s) for s in series_list)\n",
    "print(f\"Detected common seasonality lag: {lags}\")\n",
    "\n",
    "# === Split ===\n",
    "train_series = [s[:-forecast_horizon] for s in series_list if len(s) > forecast_horizon + lags]\n",
    "val_series = [s[-forecast_horizon:] for s in series_list if len(s) > forecast_horizon + lags]\n",
    "\n",
    "# === Scale ===\n",
    "scaler = Scaler(StandardScaler())\n",
    "train_series_scaled = [scaler.fit_transform(s) for s in train_series]\n",
    "val_series_scaled = [scaler.transform(s) for s in val_series]\n",
    "\n",
    "# === Candidate Models ===\n",
    "candidate_models = {\n",
    "    \"LightGBM\": RegressionModel(LGBMRegressor(), lags=lags, output_chunk_length=forecast_horizon),\n",
    "    \"XGBoost\": RegressionModel(XGBRegressor(), lags=lags, output_chunk_length=forecast_horizon),\n",
    "    \"Linear\": RegressionModel(LinearRegression(), lags=lags, output_chunk_length=forecast_horizon),\n",
    "}\n",
    "\n",
    "# === Evaluate Models ===\n",
    "\n",
    "rmse_scores = {}\n",
    "\n",
    "import numpy as np\n",
    "\n",
    "def numpy_rmse(true_ts, pred_ts):\n",
    "    true_vals = true_ts.values()\n",
    "    pred_vals = pred_ts.values()\n",
    "    return np.sqrt(np.mean((true_vals - pred_vals) ** 2))\n",
    "\n",
    "for name, model in candidate_models.items():\n",
    "    print(f\"\\n🔎 Evaluating model: {name}\")\n",
    "    model.fit(train_series_scaled)\n",
    "\n",
    "    valid_rmse = []\n",
    "\n",
    "    for train_s, val_s in zip(train_series_scaled, val_series_scaled):\n",
    "        try:\n",
    "            # === Safely extract lags from model ===\n",
    "            if isinstance(model.lags, dict):\n",
    "                if \"lags\" in model.lags:\n",
    "                    lags_val = model.lags[\"lags\"]\n",
    "                elif \"target\" in model.lags:\n",
    "                    lags_val = model.lags[\"target\"]\n",
    "                else:\n",
    "                    raise ValueError(f\"Unsupported dict lags format: {model.lags}\")\n",
    "            else:\n",
    "                lags_val = model.lags\n",
    "\n",
    "            # === Determine max lag needed ===\n",
    "            if isinstance(lags_val, int):\n",
    "                lags_to_use = lags_val\n",
    "            elif isinstance(lags_val, (list, tuple)):\n",
    "                lags_to_use = abs(min(lags_val))  # use max lookback\n",
    "            else:\n",
    "                raise ValueError(f\"Unsupported lags format: {lags_val} ({type(lags_val)})\")\n",
    "\n",
    "            # === Compute start index for historical_forecasts ===\n",
    "            start_index = len(train_s) - forecast_horizon - lags_to_use\n",
    "            if start_index <= 0:\n",
    "                print(f\"⚠️ Series too short for backtesting with {name}\")\n",
    "                continue\n",
    "\n",
    "            pred_series = model.historical_forecasts(\n",
    "                series=train_s,\n",
    "                forecast_horizon=forecast_horizon,\n",
    "                stride=1,\n",
    "                start=int(start_index),\n",
    "                last_points_only=False,\n",
    "                verbose=False\n",
    "            )\n",
    "\n",
    "            if not pred_series:\n",
    "                print(\"⚠️ No forecasts returned\")\n",
    "                continue\n",
    "\n",
    "            last_forecast = pred_series[-1]\n",
    "\n",
    "            if len(last_forecast) != len(val_s):\n",
    "                print(f\"⚠️ Length mismatch: pred={len(last_forecast)}, true={len(val_s)}\")\n",
    "                continue\n",
    "\n",
    "            print(f\"Validation sample: {val_s.values()[:5]}\")\n",
    "            print(f\"Prediction sample: {last_forecast.values()[:5]}\")\n",
    "\n",
    "            # Use numpy_rmse to avoid issues with Darts rmse\n",
    "            error = numpy_rmse(val_s, last_forecast)\n",
    "            print(f\"numpy RMSE: {error}\")\n",
    "\n",
    "            valid_rmse.append(error)\n",
    "\n",
    "        except Exception as e:\n",
    "            print(f\"❌ Exception for model {name}: {e}\")\n",
    "\n",
    "    if valid_rmse:\n",
    "        avg_rmse = sum(valid_rmse) / len(valid_rmse)\n",
    "        rmse_scores[name] = avg_rmse\n",
    "        print(f\"✅ [{name}] Avg RMSE: {avg_rmse:.2f} on {len(valid_rmse)} series\")\n",
    "    else:\n",
    "        print(f\"[{name}] No valid forecasts to calculate RMSE\")\n",
    "\n",
    "# === Top Models ===\n",
    "sorted_models = sorted(rmse_scores.items(), key=lambda x: x[1])\n",
    "top_model_names = [name for name, _ in sorted_models[:ensemble_top_n]]\n",
    "print(f\"\\n✅ Top {ensemble_top_n} models: {top_model_names}\")\n",
    "\n",
    "# === Final Forecast ===\n",
    "top_forecasts = []\n",
    "\n",
    "for name in top_model_names:\n",
    "    model = candidate_models[name]\n",
    "    model.fit(train_series_scaled)\n",
    "    forecasts = model.predict(n=forecast_horizon, series=train_series_scaled)\n",
    "    avg_forecast = reduce(add, forecasts) * (1.0 / len(forecasts))\n",
    "    top_forecasts.append(avg_forecast)\n",
    "\n",
    "ensemble_scaled = reduce(add, top_forecasts) * (1.0 / len(top_forecasts))\n",
    "ensemble_final = scaler.inverse_transform(ensemble_scaled)\n",
    "\n",
    "# === Plot ===\n",
    "ensemble_final.plot(label=f\"Ensemble Forecast (Top {ensemble_top_n} Models)\")\n",
    "\"\"\"\n",
    "import plotly.graph_objects as go\n",
    "\n",
    "# === Plot Actual vs Ensemble Forecast per Series ===\n",
    "for idx, (train_s, val_s) in enumerate(zip(train_series_scaled, val_series)):\n",
    "    # Forecast per model, per series\n",
    "    model_forecasts = []\n",
    "    for name in top_model_names:\n",
    "        model = candidate_models[name]\n",
    "        model.fit([train_s])\n",
    "        forecast = model.predict(n=forecast_horizon, series=[train_s])[0]\n",
    "        model_forecasts.append(forecast)\n",
    "\n",
    "    # Ensemble average\n",
    "    avg_forecast = reduce(add, model_forecasts) * (1.0 / len(model_forecasts))\n",
    "    ensemble_forecast = scaler.inverse_transform(avg_forecast)\n",
    "\n",
    "    # Plot actual vs forecast\n",
    "    fig = go.Figure()\n",
    "    fig.add_trace(go.Scatter(\n",
    "        x=val_s.time_index,\n",
    "        y=val_s.values().flatten(),\n",
    "        mode='lines',\n",
    "        name='Actual'\n",
    "    ))\n",
    "    fig.add_trace(go.Scatter(\n",
    "        x=ensemble_forecast.time_index,\n",
    "        y=ensemble_forecast.values().flatten(),\n",
    "        mode='lines',\n",
    "        name='Forecast'\n",
    "    ))\n",
    "\n",
    "    fig.update_layout(\n",
    "        title=f\"Series {idx + 1} — Actual vs Ensemble Forecast\",\n",
    "        xaxis_title=\"Date\",\n",
    "        yaxis_title=\"Value\",\n",
    "        template=\"plotly_white\"\n",
    "    )\n",
    "    fig.show()\n",
    "\"\"\""
   ],
   "id": "1397da18608bf647",
   "outputs": [
    {
     "name": "stdout",
     "output_type": "stream",
     "text": [
      "✔️ Strongest seasonality detected: 5\n",
      "✔️ Strongest seasonality detected: 7\n",
      "Detected common seasonality lag: 5\n",
      "\n",
      "🔎 Evaluating model: LightGBM\n",
      "Validation sample: [[-0.29530156]\n",
      " [ 0.12509639]\n",
      " [ 0.92024909]\n",
      " [-0.24965835]\n",
      " [-0.31211747]]\n",
      "Prediction sample: [[-0.60289853]\n",
      " [-0.56222942]\n",
      " [-0.55296859]\n",
      " [-0.55919264]\n",
      " [-0.55523599]]\n",
      "numpy RMSE: 1.0086100662906727\n",
      "Validation sample: [[-0.26166972]\n",
      " [-0.11993555]\n",
      " [ 0.46141475]\n",
      " [-0.52351759]\n",
      " [-0.46586301]]\n",
      "Prediction sample: [[-0.65805174]\n",
      " [-0.62024868]\n",
      " [-0.60948113]\n",
      " [-0.61398203]\n",
      " [-0.61284005]]\n",
      "numpy RMSE: 1.050568214011232\n",
      "✅ [LightGBM] Avg RMSE: 1.03 on 2 series\n",
      "\n",
      "🔎 Evaluating model: XGBoost\n",
      "Validation sample: [[-0.29530156]\n",
      " [ 0.12509639]\n",
      " [ 0.92024909]\n",
      " [-0.24965835]\n",
      " [-0.31211747]]\n",
      "Prediction sample: [[-0.60289853]\n",
      " [-0.56222942]\n",
      " [-0.55296859]\n",
      " [-0.55919264]\n",
      " [-0.55523599]]\n",
      "numpy RMSE: 1.0086100662906727\n",
      "Validation sample: [[-0.26166972]\n",
      " [-0.11993555]\n",
      " [ 0.46141475]\n",
      " [-0.52351759]\n",
      " [-0.46586301]]\n",
      "Prediction sample: [[-0.65805174]\n",
      " [-0.62024868]\n",
      " [-0.60948113]\n",
      " [-0.61398203]\n",
      " [-0.61284005]]\n",
      "numpy RMSE: 1.050568214011232\n",
      "✅ [XGBoost] Avg RMSE: 1.03 on 2 series\n",
      "\n",
      "🔎 Evaluating model: Linear\n",
      "Validation sample: [[-0.29530156]\n",
      " [ 0.12509639]\n",
      " [ 0.92024909]\n",
      " [-0.24965835]\n",
      " [-0.31211747]]\n",
      "Prediction sample: [[-0.60289853]\n",
      " [-0.56222942]\n",
      " [-0.55296859]\n",
      " [-0.55919264]\n",
      " [-0.55523599]]\n",
      "numpy RMSE: 1.0086100662906727\n",
      "Validation sample: [[-0.26166972]\n",
      " [-0.11993555]\n",
      " [ 0.46141475]\n",
      " [-0.52351759]\n",
      " [-0.46586301]]\n",
      "Prediction sample: [[-0.65805174]\n",
      " [-0.62024868]\n",
      " [-0.60948113]\n",
      " [-0.61398203]\n",
      " [-0.61284005]]\n",
      "numpy RMSE: 1.050568214011232\n",
      "✅ [Linear] Avg RMSE: 1.03 on 2 series\n",
      "\n",
      "✅ Top 2 models: ['LightGBM', 'XGBoost']\n"
     ]
    },
    {
     "data": {
      "text/plain": [
       "<Axes: xlabel='Date'>"
      ]
     },
     "execution_count": 158,
     "metadata": {},
     "output_type": "execute_result"
    },
    {
     "data": {
      "text/plain": [
       "<Figure size 640x480 with 1 Axes>"
      ],
      "image/png": "[encoded data removed]"
     },
     "metadata": {},
     "output_type": "display_data"
    }
   ],
   "execution_count": 158
  },
  {
   "metadata": {
    "ExecuteTime": {
     "end_time": "2025-06-02T16:00:55.270993Z",
     "start_time": "2025-06-02T16:00:54.835342Z"
    }
   },
   "cell_type": "code",
   "source": [
    "import pandas as pd\n",
    "from darts import TimeSeries\n",
    "import matplotlib.pyplot as plt\n",
    "from darts.models import ExponentialSmoothing, Theta, AutoTBATS  # Or ARIMA, Theta, etc.\n",
    "\n",
    "# Load the CSV\n",
    "df = pd.read_csv(\"temp_1.csv\", parse_dates=[\"Date\"])\n",
    "\n",
    "# Fill missing values with 0 (store not open or data missing = 0 sales)\n",
    "df_filled = df.fillna(0)\n",
    "\n",
    "# Sum across all store columns (excluding the date column)\n",
    "store_columns = df_filled.columns.drop(\"Date\")\n",
    "df_filled[\"total_temp\"] = df_filled[store_columns].mean(axis=1)\n",
    "\n",
    "# Sort by date (just in case)\n",
    "#df_filled = df_filled.sort_values(\"Date\")\n",
    "\n",
    "# Create TimeSeries object\n",
    "series = TimeSeries.from_dataframe(df_filled, time_col=\"Date\", value_cols=\"total_temp\")\n",
    "\n",
    "# Fit a simple model (e.g., Exponential Smoothing)\n",
    "model = ExponentialSmoothing()\n",
    "model.fit(series)\n",
    "\n",
    "# Forecast next 30 days\n",
    "forecast = model.predict(200)\n",
    "\n",
    "# Plot\n",
    "#series.plot(label=\"Actual\")\n",
    "forecast.plot(label=\"Forecast\")\n",
    "plt.legend()\n",
    "plt.show()"
   ],
   "id": "78791cc829c0d015",
   "outputs": [
    {
     "data": {
      "text/plain": [
       "<Figure size 640x480 with 1 Axes>"
      ],
      "image/png": "[encoded data removed]"
     },
     "metadata": {},
     "output_type": "display_data"
    }
   ],
   "execution_count": 172
  },
  {
   "metadata": {
    "ExecuteTime": {
     "end_time": "2025-06-02T16:14:44.293276Z",
     "start_time": "2025-06-02T16:14:44.262758Z"
    }
   },
   "cell_type": "code",
   "source": "df_filled.columns",
   "id": "a80521a011dd0e06",
   "outputs": [
    {
     "data": {
      "text/plain": [
       "Index(['Date', 'Temp_1', 'Temp_2', 'total_temp'], dtype='object')"
      ]
     },
     "execution_count": 173,
     "metadata": {},
     "output_type": "execute_result"
    }
   ],
   "execution_count": 173
  },
  {
   "metadata": {},
   "cell_type": "code",
   "outputs": [],
   "execution_count": null,
   "source": "",
   "id": "f9c42144a38527b7"
  }
 ],
 "metadata": {
  "kernelspec": {
   "display_name": "Python 3",
   "language": "python",
   "name": "python3"
  },
  "language_info": {
   "codemirror_mode": {
    "name": "ipython",
    "version": 2
   },
   "file_extension": ".py",
   "mimetype": "text/x-python",
   "name": "python",
   "nbconvert_exporter": "python",
   "pygments_lexer": "ipython2",
   "version": "2.7.6"
  }
 },
 "nbformat": 4,
 "nbformat_minor": 5
}
